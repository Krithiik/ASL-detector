{
 "cells": [
  {
   "cell_type": "code",
   "execution_count": 1,
   "metadata": {
    "colab": {
     "base_uri": "https://localhost:8080/"
    },
    "executionInfo": {
     "elapsed": 3775,
     "status": "ok",
     "timestamp": 1647623082531,
     "user": {
      "displayName": "Boktiar Ahmed Bappy",
      "photoUrl": "https://lh3.googleusercontent.com/a-/AOh14GhWlzym8ABW1ljMu2O4sRpO10xSHB5zo15Ii-x_=s64",
      "userId": "10381972055342951581"
     },
     "user_tz": -360
    },
    "id": "wbvMlHd_QwMG",
    "outputId": "7d8bad1b-e546-4fed-d88c-266d86100584"
   },
   "outputs": [
    {
     "name": "stderr",
     "output_type": "stream",
     "text": [
      "C:\\Myfiles\\Apps\\envs\\torch\\lib\\site-packages\\tqdm\\auto.py:22: TqdmWarning: IProgress not found. Please update jupyter and ipywidgets. See https://ipywidgets.readthedocs.io/en/stable/user_install.html\n",
      "  from .autonotebook import tqdm as notebook_tqdm\n"
     ]
    },
    {
     "name": "stdout",
     "output_type": "stream",
     "text": [
      "Setup complete. Using torch 1.13.1 _CudaDeviceProperties(name='NVIDIA GeForce RTX 3060 Laptop GPU', major=8, minor=6, total_memory=6143MB, multi_processor_count=30)\n"
     ]
    }
   ],
   "source": [
    "import torch\n",
    "from IPython.display import Image, clear_output \n",
    "\n",
    "print('Setup complete. Using torch %s %s' % (torch.__version__, torch.cuda.get_device_properties(0) if torch.cuda.is_available() else 'CPU'))"
   ]
  },
  {
   "cell_type": "code",
   "execution_count": 5,
   "metadata": {},
   "outputs": [
    {
     "name": "stderr",
     "output_type": "stream",
     "text": [
      "Cloning into 'yolov5'...\n"
     ]
    }
   ],
   "source": [
    "!git clone https://github.com/ultralytics/yolov5.git"
   ]
  },
  {
   "cell_type": "code",
   "execution_count": 2,
   "metadata": {},
   "outputs": [
    {
     "data": {
      "text/plain": [
       "'C:\\\\Myfiles\\\\Project\\\\3_Working\\\\asl\\\\new_asl\\\\mine'"
      ]
     },
     "execution_count": 2,
     "metadata": {},
     "output_type": "execute_result"
    }
   ],
   "source": [
    "import os\n",
    "os. getcwd()"
   ]
  },
  {
   "cell_type": "code",
   "execution_count": 6,
   "metadata": {
    "id": "dOPn9wjOAwwK"
   },
   "outputs": [
    {
     "name": "stdout",
     "output_type": "stream",
     "text": [
      "6\n"
     ]
    }
   ],
   "source": [
    "import yaml\n",
    "with open(\"data.yaml\", 'r') as stream:\n",
    "    num_classes = str(yaml.safe_load(stream)['nc'])\n",
    "    print(num_classes)"
   ]
  },
  {
   "cell_type": "code",
   "execution_count": 9,
   "metadata": {
    "colab": {
     "base_uri": "https://localhost:8080/"
    },
    "executionInfo": {
     "elapsed": 731,
     "status": "ok",
     "timestamp": 1647623390601,
     "user": {
      "displayName": "Boktiar Ahmed Bappy",
      "photoUrl": "https://lh3.googleusercontent.com/a-/AOh14GhWlzym8ABW1ljMu2O4sRpO10xSHB5zo15Ii-x_=s64",
      "userId": "10381972055342951581"
     },
     "user_tz": -360
    },
    "id": "1Rvt5wilnDyX",
    "outputId": "ebebb8ee-b141-4e65-eeff-f380662c7726"
   },
   "outputs": [
    {
     "name": "stderr",
     "output_type": "stream",
     "text": [
      "UsageError: Line magic function `%type` not found.\n"
     ]
    }
   ],
   "source": [
    "%type /yolov5/models/yolov5s.yaml"
   ]
  },
  {
   "cell_type": "code",
   "execution_count": 10,
   "metadata": {
    "id": "t14hhyqdmw6O"
   },
   "outputs": [],
   "source": [
    "#customize iPython writefile so we can write variables\n",
    "from IPython.core.magic import register_line_cell_magic\n",
    "\n",
    "@register_line_cell_magic\n",
    "def writetemplate(line, cell):\n",
    "    with open(line, 'w') as f:\n",
    "        f.write(cell.format(**globals()))"
   ]
  },
  {
   "cell_type": "code",
   "execution_count": 11,
   "metadata": {
    "id": "uDxebz13RdRA"
   },
   "outputs": [],
   "source": [
    "%%writetemplate yolov5/models/custom_yolov5s.yaml\n",
    "\n",
    "# parameters\n",
    "nc: {num_classes}  # number of classes\n",
    "depth_multiple: 0.33  # model depth multiple\n",
    "width_multiple: 0.50  # layer channel multiple\n",
    "\n",
    "# anchors\n",
    "anchors:\n",
    "  - [10,13, 16,30, 33,23]  # P3/8\n",
    "  - [30,61, 62,45, 59,119]  # P4/16\n",
    "  - [116,90, 156,198, 373,326]  # P5/32\n",
    "\n",
    "# YOLOv5 backbone\n",
    "backbone:\n",
    "  # [from, number, module, args]\n",
    "  [[-1, 1, Focus, [64, 3]],  # 0-P1/2\n",
    "   [-1, 1, Conv, [128, 3, 2]],  # 1-P2/4\n",
    "   [-1, 3, BottleneckCSP, [128]],\n",
    "   [-1, 1, Conv, [256, 3, 2]],  # 3-P3/8\n",
    "   [-1, 9, BottleneckCSP, [256]],\n",
    "   [-1, 1, Conv, [512, 3, 2]],  # 5-P4/16\n",
    "   [-1, 9, BottleneckCSP, [512]],\n",
    "   [-1, 1, Conv, [1024, 3, 2]],  # 7-P5/32\n",
    "   [-1, 1, SPP, [1024, [5, 9, 13]]],\n",
    "   [-1, 3, BottleneckCSP, [1024, False]],  # 9\n",
    "  ]\n",
    "\n",
    "# YOLOv5 head\n",
    "head:\n",
    "  [[-1, 1, Conv, [512, 1, 1]],\n",
    "   [-1, 1, nn.Upsample, [None, 2, 'nearest']],\n",
    "   [[-1, 6], 1, Concat, [1]],  # cat backbone P4\n",
    "   [-1, 3, BottleneckCSP, [512, False]],  # 13\n",
    "\n",
    "   [-1, 1, Conv, [256, 1, 1]],\n",
    "   [-1, 1, nn.Upsample, [None, 2, 'nearest']],\n",
    "   [[-1, 4], 1, Concat, [1]],  # cat backbone P3\n",
    "   [-1, 3, BottleneckCSP, [256, False]],  # 17 (P3/8-small)\n",
    "\n",
    "   [-1, 1, Conv, [256, 3, 2]],\n",
    "   [[-1, 14], 1, Concat, [1]],  # cat head P4\n",
    "   [-1, 3, BottleneckCSP, [512, False]],  # 20 (P4/16-medium)\n",
    "\n",
    "   [-1, 1, Conv, [512, 3, 2]],\n",
    "   [[-1, 10], 1, Concat, [1]],  # cat head P5\n",
    "   [-1, 3, BottleneckCSP, [1024, False]],  # 23 (P5/32-large)\n",
    "\n",
    "   [[17, 20, 23], 1, Detect, [nc, anchors]],  # Detect(P3, P4, P5)\n",
    "  ]"
   ]
  },
  {
   "cell_type": "code",
   "execution_count": 15,
   "metadata": {
    "colab": {
     "base_uri": "https://localhost:8080/"
    },
    "executionInfo": {
     "elapsed": 211802,
     "status": "ok",
     "timestamp": 1647625679024,
     "user": {
      "displayName": "Boktiar Ahmed Bappy",
      "photoUrl": "https://lh3.googleusercontent.com/a-/AOh14GhWlzym8ABW1ljMu2O4sRpO10xSHB5zo15Ii-x_=s64",
      "userId": "10381972055342951581"
     },
     "user_tz": -360
    },
    "id": "1NcFxRcFdJ_O",
    "outputId": "980b639e-a97a-4ad3-8e00-45186cdd4ebb"
   },
   "outputs": [
    {
     "name": "stdout",
     "output_type": "stream",
     "text": [
      "C:\\Myfiles\\Project\\3_Working\\asl\\new_asl\\mine\\yolov5\n"
     ]
    },
    {
     "name": "stderr",
     "output_type": "stream",
     "text": [
      "\u001b[34m\u001b[1mtrain: \u001b[0mweights='yolov5s.pt', cfg=./models/custom_yolov5s.yaml, data='../data.yaml', hyp=data\\hyps\\hyp.scratch-low.yaml, epochs=300, batch_size=16, imgsz=416, rect=False, resume=False, nosave=False, noval=False, noautoanchor=False, noplots=False, evolve=None, bucket=, cache=ram, image_weights=False, device=, multi_scale=False, single_cls=False, optimizer=SGD, sync_bn=False, workers=8, project=runs\\train, name=yolov5s_results, exist_ok=False, quad=False, cos_lr=False, label_smoothing=0.0, patience=100, freeze=[0], save_period=-1, seed=0, local_rank=-1, entity=None, upload_dataset=False, bbox_interval=-1, artifact_alias=latest\n",
      "\u001b[34m\u001b[1mgithub: \u001b[0mup to date with https://github.com/ultralytics/yolov5 \n",
      "\u001b[31m\u001b[1mrequirements:\u001b[0m YOLOv5 requirements \"setuptools>=65.5.1\" \"wheel>=0.38.0\" not found, attempting AutoUpdate...\n",
      "Collecting setuptools>=65.5.1\n",
      "\n",
      "  Downloading setuptools-67.2.0-py3-none-any.whl (1.1 MB)\n",
      "\n",
      "     ---------------------------------------- 1.1/1.1 MB 1.3 MB/s eta 0:00:00\n",
      "\n",
      "Collecting wheel>=0.38.0\n",
      "\n",
      "  Using cached wheel-0.38.4-py3-none-any.whl (36 kB)\n",
      "\n",
      "Installing collected packages: wheel, setuptools\n",
      "\n",
      "  Attempting uninstall: wheel\n",
      "\n",
      "    Found existing installation: wheel 0.37.1\n",
      "\n",
      "    Uninstalling wheel-0.37.1:\n",
      "\n",
      "      Successfully uninstalled wheel-0.37.1\n",
      "\n",
      "  Attempting uninstall: setuptools\n",
      "\n",
      "    Found existing installation: setuptools 65.5.0\n",
      "\n",
      "    Uninstalling setuptools-65.5.0:\n",
      "\n",
      "      Successfully uninstalled setuptools-65.5.0\n",
      "\n",
      "Successfully installed setuptools-67.2.0 wheel-0.38.4\n",
      "\n",
      "\n",
      "\u001b[31m\u001b[1mrequirements:\u001b[0m 2 packages updated per C:\\Myfiles\\Project\\3_Working\\asl\\new_asl\\mine\\yolov5\\requirements.txt\n",
      "\u001b[31m\u001b[1mrequirements:\u001b[0m  \u001b[1mRestart runtime or rerun command for updates to take effect\u001b[0m\n",
      "\n",
      "Traceback (most recent call last):\n",
      "  File \"C:\\Myfiles\\Project\\3_Working\\asl\\new_asl\\mine\\yolov5\\train.py\", line 636, in <module>\n",
      "    main(opt)\n",
      "  File \"C:\\Myfiles\\Project\\3_Working\\asl\\new_asl\\mine\\yolov5\\train.py\", line 504, in main\n",
      "    check_file(opt.data), check_yaml(opt.cfg), check_yaml(opt.hyp), str(opt.weights), str(opt.project)  # checks\n",
      "  File \"C:\\Myfiles\\Project\\3_Working\\asl\\new_asl\\mine\\yolov5\\utils\\general.py\", line 484, in check_file\n",
      "    assert len(files), f'File not found: {file}'  # assert file was found\n",
      "AssertionError: File not found: '../data.yaml'\n"
     ]
    }
   ],
   "source": [
    "# train yolov5s on custom data for 100 epochs\n",
    "# time its performance\n",
    "\n",
    "%cd yolov5\n",
    "!python train.py --img 416 --batch 16 --epochs 300 --data '../data.yaml' --cfg ./models/custom_yolov5s.yaml --weights 'yolov5s.pt' --name yolov5s_results  --cache"
   ]
  },
  {
   "cell_type": "markdown",
   "metadata": {
    "id": "N3qM6T0W53gh"
   },
   "source": [
    "#Run Inference  With Trained Weights\n",
    "Run inference with a pretrained checkpoint on contents of `test/images` folder downloaded from Roboflow."
   ]
  },
  {
   "cell_type": "code",
   "execution_count": 30,
   "metadata": {
    "colab": {
     "base_uri": "https://localhost:8080/"
    },
    "executionInfo": {
     "elapsed": 7827,
     "status": "ok",
     "timestamp": 1647626383020,
     "user": {
      "displayName": "Boktiar Ahmed Bappy",
      "photoUrl": "https://lh3.googleusercontent.com/a-/AOh14GhWlzym8ABW1ljMu2O4sRpO10xSHB5zo15Ii-x_=s64",
      "userId": "10381972055342951581"
     },
     "user_tz": -360
    },
    "id": "9nmZZnWOgJ2S",
    "outputId": "ded1256a-b34e-4580-911a-985c5f1f7a76"
   },
   "outputs": [
    {
     "name": "stdout",
     "output_type": "stream",
     "text": [
      "/content/yolov5\n",
      "\u001b[34m\u001b[1mdetect: \u001b[0mweights=['runs/train/yolov5s_results/weights/best.pt'], source=../test/images, data=data/coco128.yaml, imgsz=[416, 416], conf_thres=0.5, iou_thres=0.45, max_det=1000, device=, view_img=False, save_txt=False, save_conf=False, save_crop=False, nosave=False, classes=None, agnostic_nms=False, augment=False, visualize=False, update=False, project=runs/detect, name=exp, exist_ok=False, line_thickness=3, hide_labels=False, hide_conf=False, half=False, dnn=False\n",
      "YOLOv5 🚀 v6.1-39-g4effd06 torch 1.10.0+cu111 CUDA:0 (Tesla K80, 11441MiB)\n",
      "\n",
      "Fusing layers... \n",
      "Model Summary: 232 layers, 7260003 parameters, 0 gradients, 16.8 GFLOPs\n",
      "image 1/30 /content/test/images/Hello.82af5cd8-a6d1-11ec-a2fc-84a93ea18ae6.jpg: 320x416 1 Hello, Done. (0.028s)\n",
      "image 2/30 /content/test/images/Hello.8b2540a6-a6d1-11ec-a828-84a93ea18ae6 - Copy.jpg: 320x416 1 Hello, Done. (0.029s)\n",
      "image 3/30 /content/test/images/Hello.8b2540a6-a6d1-11ec-a828-84a93ea18ae6.jpg: 320x416 1 Hello, Done. (0.028s)\n",
      "image 4/30 /content/test/images/Hello.8c5b98c8-a6d1-11ec-a905-84a93ea18ae6.jpg: 320x416 1 Hello, Done. (0.028s)\n",
      "image 5/30 /content/test/images/Hello.8d922278-a6d1-11ec-9c17-84a93ea18ae6.jpg: 320x416 1 Hello, Done. (0.028s)\n",
      "image 6/30 /content/test/images/IloveYou.01279dee-a6d2-11ec-a775-84a93ea18ae6.jpg: 320x416 1 IloveYou, Done. (0.029s)\n",
      "image 7/30 /content/test/images/IloveYou.0391a1b8-a6d2-11ec-9246-84a93ea18ae6.jpg: 320x416 1 IloveYou, Done. (0.028s)\n",
      "image 8/30 /content/test/images/IloveYou.04c7764c-a6d2-11ec-998a-84a93ea18ae6 - Copy.jpg: 320x416 1 IloveYou, Done. (0.028s)\n",
      "image 9/30 /content/test/images/IloveYou.04c7764c-a6d2-11ec-998a-84a93ea18ae6.jpg: 320x416 1 IloveYou, Done. (0.028s)\n",
      "image 10/30 /content/test/images/IloveYou.05fc3c80-a6d2-11ec-ba0a-84a93ea18ae6.jpg: 320x416 1 IloveYou, Done. (0.029s)\n",
      "image 11/30 /content/test/images/No.b81769f8-a6d1-11ec-8d33-84a93ea18ae6.jpg: 320x416 1 No, Done. (0.029s)\n",
      "image 12/30 /content/test/images/No.b94ba4ee-a6d1-11ec-b2ba-84a93ea18ae6.jpg: 320x416 1 No, Done. (0.028s)\n",
      "image 13/30 /content/test/images/No.ba816d2e-a6d1-11ec-898a-84a93ea18ae6.jpg: 320x416 1 No, Done. (0.028s)\n",
      "image 14/30 /content/test/images/No.bbb5b350-a6d1-11ec-988f-84a93ea18ae6.jpg: 320x416 1 No, Done. (0.029s)\n",
      "image 15/30 /content/test/images/No.bce99c74-a6d1-11ec-8c1b-84a93ea18ae6.jpg: 320x416 1 No, Done. (0.029s)\n",
      "image 16/30 /content/test/images/Please.0c268ce4-a6d2-11ec-9f18-84a93ea18ae6.jpg: 320x416 1 Please, Done. (0.028s)\n",
      "image 17/30 /content/test/images/Please.0d5c368c-a6d2-11ec-aa39-84a93ea18ae6.jpg: 320x416 1 Please, Done. (0.029s)\n",
      "image 18/30 /content/test/images/Please.0eb881f4-a6d2-11ec-b189-84a93ea18ae6.jpg: 320x416 1 Please, Done. (0.028s)\n",
      "image 19/30 /content/test/images/Please.0fee219c-a6d2-11ec-b053-84a93ea18ae6.jpg: 320x416 1 Please, Done. (0.028s)\n",
      "image 20/30 /content/test/images/Please.1ad33b64-a6d2-11ec-a9f7-84a93ea18ae6.jpg: 320x416 1 Please, Done. (0.028s)\n",
      "image 21/30 /content/test/images/Thanks.d40538dc-a6d1-11ec-83da-84a93ea18ae6.jpg: 320x416 1 Thanks, Done. (0.029s)\n",
      "image 22/30 /content/test/images/Thanks.d53a6f1c-a6d1-11ec-b146-84a93ea18ae6.jpg: 320x416 1 Thanks, Done. (0.029s)\n",
      "image 23/30 /content/test/images/Thanks.d6712d6e-a6d1-11ec-a11a-84a93ea18ae6.jpg: 320x416 1 Thanks, Done. (0.028s)\n",
      "image 24/30 /content/test/images/Thanks.d7a66c58-a6d1-11ec-bc8a-84a93ea18ae6.jpg: 320x416 1 Thanks, Done. (0.029s)\n",
      "image 25/30 /content/test/images/Thanks.d8e8125c-a6d1-11ec-ab8a-84a93ea18ae6.jpg: 320x416 1 Thanks, Done. (0.028s)\n",
      "image 26/30 /content/test/images/Yes.9c38304a-a6d1-11ec-9479-84a93ea18ae6.jpg: 320x416 1 Yes, Done. (0.029s)\n",
      "image 27/30 /content/test/images/Yes.9d6bf3fa-a6d1-11ec-a87d-84a93ea18ae6.jpg: 320x416 1 Yes, Done. (0.029s)\n",
      "image 28/30 /content/test/images/Yes.9ea079ba-a6d1-11ec-9707-84a93ea18ae6.jpg: 320x416 1 Yes, Done. (0.028s)\n",
      "image 29/30 /content/test/images/Yes.9fd5c7c0-a6d1-11ec-853d-84a93ea18ae6.jpg: 320x416 1 Yes, Done. (0.028s)\n",
      "image 30/30 /content/test/images/Yes.a4ae0126-a6d1-11ec-98f0-84a93ea18ae6.jpg: 320x416 1 Yes, Done. (0.028s)\n",
      "Speed: 0.3ms pre-process, 28.4ms inference, 1.6ms NMS per image at shape (1, 3, 416, 416)\n",
      "Results saved to \u001b[1mruns/detect/exp2\u001b[0m\n"
     ]
    }
   ],
   "source": [
    "# when we ran this, we saw .007 second inference time. That is 140 FPS on a TESLA P100!\n",
    "# use the best weights!\n",
    "%cd /content/yolov5/\n",
    "!python detect.py --weights runs/train/yolov5s_results/weights/best.pt --img 416 --conf 0.5 --source ../test/images"
   ]
  }
 ],
 "metadata": {
  "accelerator": "GPU",
  "colab": {
   "collapsed_sections": [],
   "name": "Sign language Generation.ipynb",
   "provenance": []
  },
  "kernelspec": {
   "display_name": "Python 3 (ipykernel)",
   "language": "python",
   "name": "python3"
  },
  "language_info": {
   "codemirror_mode": {
    "name": "ipython",
    "version": 3
   },
   "file_extension": ".py",
   "mimetype": "text/x-python",
   "name": "python",
   "nbconvert_exporter": "python",
   "pygments_lexer": "ipython3",
   "version": "3.9.15"
  },
  "vscode": {
   "interpreter": {
    "hash": "3998fe2421d7593c93c4dfab688a3f32bf331b215372a95cae99f81571690934"
   }
  }
 },
 "nbformat": 4,
 "nbformat_minor": 1
}
